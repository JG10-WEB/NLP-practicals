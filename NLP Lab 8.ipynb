{
 "cells": [
  {
   "cell_type": "markdown",
   "metadata": {},
   "source": [
    "# Lab 8: Analyzing Sentence Structure\n",
    "\n",
    "Name: Jay Goyal\n",
    "\n",
    "Roll no.: C017\n",
    "\n",
    "B.Tech EXTC 4th Year"
   ]
  },
  {
   "cell_type": "code",
   "execution_count": 1,
   "metadata": {},
   "outputs": [],
   "source": [
    "import nltk"
   ]
  },
  {
   "cell_type": "code",
   "execution_count": 3,
   "metadata": {},
   "outputs": [],
   "source": [
    "groucho_grammar = nltk.CFG.fromstring(\"\"\" \n",
    "... S -> NP VP \n",
    "... PP -> P NP \n",
    "... NP -> Det N | Det N PP | 'I' \n",
    "... VP -> V NP | VP PP \n",
    "... Det -> 'an' | 'my' \n",
    "... N -> 'elephant' | 'pajamas' \n",
    "... V -> 'shot' \n",
    "... P -> 'in' \n",
    "... \"\"\") "
   ]
  },
  {
   "cell_type": "code",
   "execution_count": 4,
   "metadata": {},
   "outputs": [
    {
     "name": "stdout",
     "output_type": "stream",
     "text": [
      "(S\n",
      "  (NP I)\n",
      "  (VP\n",
      "    (VP (V shot) (NP (Det an) (N elephant)))\n",
      "    (PP (P in) (NP (Det my) (N pajamas)))))\n",
      "(S\n",
      "  (NP I)\n",
      "  (VP\n",
      "    (V shot)\n",
      "    (NP (Det an) (N elephant) (PP (P in) (NP (Det my) (N pajamas))))))\n"
     ]
    }
   ],
   "source": [
    "sent = ['I', 'shot', 'an', 'elephant', 'in', 'my', 'pajamas'] \n",
    "parser = nltk.ChartParser(groucho_grammar) \n",
    "\n",
    "for tree in parser.parse(sent):\n",
    "    print(tree) "
   ]
  },
  {
   "cell_type": "code",
   "execution_count": 5,
   "metadata": {},
   "outputs": [],
   "source": [
    "tree.draw()"
   ]
  },
  {
   "cell_type": "code",
   "execution_count": 6,
   "metadata": {},
   "outputs": [],
   "source": [
    "grammar1 = nltk.CFG.fromstring(\"\"\" \n",
    "  S -> NP VP \n",
    "  VP -> V NP | V NP PP \n",
    "  PP -> P NP \n",
    "  V -> \"saw\" | \"ate\" | \"walked\" \n",
    "  NP -> \"John\" | \"Mary\" | \"Bob\" | Det N | Det N PP \n",
    "  Det -> \"a\" | \"an\" | \"the\" | \"my\" \n",
    "  N -> \"man\" | \"dog\" | \"cat\" | \"telescope\" | \"park\" \n",
    "  P -> \"in\" | \"on\" | \"by\" | \"with\" \n",
    "  \"\"\") "
   ]
  },
  {
   "cell_type": "code",
   "execution_count": 11,
   "metadata": {},
   "outputs": [
    {
     "name": "stdout",
     "output_type": "stream",
     "text": [
      "(S\n",
      "  (NP (Det the) (N dog))\n",
      "  (VP\n",
      "    (V saw)\n",
      "    (NP (Det a) (N man) (PP (P in) (NP (Det the) (N park))))))\n",
      "(S\n",
      "  (NP (Det the) (N dog))\n",
      "  (VP\n",
      "    (V saw)\n",
      "    (NP (Det a) (N man))\n",
      "    (PP (P in) (NP (Det the) (N park)))))\n"
     ]
    }
   ],
   "source": [
    "sent = \"the dog saw a man in the park\".split() \n",
    "\n",
    "rd_parser = nltk.RecursiveDescentParser(grammar1) \n",
    "\n",
    "for tree in rd_parser.parse(sent): \n",
    "    print(tree) "
   ]
  },
  {
   "cell_type": "code",
   "execution_count": 12,
   "metadata": {},
   "outputs": [],
   "source": [
    "tree.draw()"
   ]
  },
  {
   "cell_type": "code",
   "execution_count": null,
   "metadata": {},
   "outputs": [],
   "source": [
    "#Put a file name with cfg extension for it to work\n",
    "grammar1 = nltk.data.load('file:mygrammar.cfg') \n",
    "sent = \"Mary saw Bob\".split() \n",
    "rd_parser = nltk.RecursiveDescentParser(grammar1) \n",
    "for tree in rd_parser.parse(sent):\n",
    "    print(tree) "
   ]
  },
  {
   "cell_type": "code",
   "execution_count": 14,
   "metadata": {},
   "outputs": [
    {
     "name": "stdout",
     "output_type": "stream",
     "text": [
      "(S (NP Mary) (VP (V saw) (NP (Det a) (N dog))))\n"
     ]
    }
   ],
   "source": [
    "rd_parser = nltk.RecursiveDescentParser(grammar1)\n",
    "sent = 'Mary saw a dog'.split()\n",
    "for tree in rd_parser.parse(sent):\n",
    "    print(tree)"
   ]
  },
  {
   "cell_type": "code",
   "execution_count": 16,
   "metadata": {},
   "outputs": [],
   "source": [
    "tree.draw()"
   ]
  },
  {
   "cell_type": "code",
   "execution_count": 17,
   "metadata": {},
   "outputs": [
    {
     "name": "stdout",
     "output_type": "stream",
     "text": [
      "(S (NP Mary) (VP (V saw) (NP (Det a) (N dog))))\n"
     ]
    }
   ],
   "source": [
    "sr_parser = nltk.ShiftReduceParser(grammar1)\n",
    "sent = 'Mary saw a dog'.split()\n",
    "for tree in sr_parser.parse(sent):\n",
    "    print(tree)"
   ]
  },
  {
   "cell_type": "code",
   "execution_count": 18,
   "metadata": {},
   "outputs": [],
   "source": [
    "tree.draw()"
   ]
  }
 ],
 "metadata": {
  "interpreter": {
   "hash": "9033a510c7911f48b3736354eec90fead28f0d95f042ae49b38bf04b0296ad45"
  },
  "kernelspec": {
   "display_name": "Python 3",
   "language": "python",
   "name": "python3"
  },
  "language_info": {
   "codemirror_mode": {
    "name": "ipython",
    "version": 3
   },
   "file_extension": ".py",
   "mimetype": "text/x-python",
   "name": "python",
   "nbconvert_exporter": "python",
   "pygments_lexer": "ipython3",
   "version": "3.8.8"
  }
 },
 "nbformat": 4,
 "nbformat_minor": 2
}
