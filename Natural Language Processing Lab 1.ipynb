{
 "cells": [
  {
   "cell_type": "markdown",
   "metadata": {},
   "source": [
    "Name: Jay Goyal\n",
    "Btech Extc: 4th Year\n",
    "C017\n",
    "Experiment No - 1\n",
    "Reading wav file"
   ]
  },
  {
   "cell_type": "code",
   "execution_count": 1,
   "metadata": {},
   "outputs": [],
   "source": [
    "import nltk"
   ]
  },
  {
   "cell_type": "code",
   "execution_count": 2,
   "metadata": {},
   "outputs": [
    {
     "name": "stdout",
     "output_type": "stream",
     "text": [
      "Collecting gtts\n",
      "  Downloading gTTS-2.2.3-py3-none-any.whl (25 kB)\n",
      "Requirement already satisfied: six in f:\\23-12-20\\raj\\downloads\\anacondapython3.6\\lib\\site-packages (from gtts) (1.15.0)\n",
      "Requirement already satisfied: requests in f:\\23-12-20\\raj\\downloads\\anacondapython3.6\\lib\\site-packages (from gtts) (2.24.0)\n",
      "Requirement already satisfied: click in f:\\23-12-20\\raj\\downloads\\anacondapython3.6\\lib\\site-packages (from gtts) (7.1.2)\n",
      "Requirement already satisfied: urllib3!=1.25.0,!=1.25.1,<1.26,>=1.21.1 in f:\\23-12-20\\raj\\downloads\\anacondapython3.6\\lib\\site-packages (from requests->gtts) (1.25.11)\n",
      "Requirement already satisfied: chardet<4,>=3.0.2 in f:\\23-12-20\\raj\\downloads\\anacondapython3.6\\lib\\site-packages (from requests->gtts) (3.0.4)\n",
      "Requirement already satisfied: idna<3,>=2.5 in f:\\23-12-20\\raj\\downloads\\anacondapython3.6\\lib\\site-packages (from requests->gtts) (2.10)\n",
      "Requirement already satisfied: certifi>=2017.4.17 in f:\\23-12-20\\raj\\downloads\\anacondapython3.6\\lib\\site-packages (from requests->gtts) (2020.6.20)\n",
      "Installing collected packages: gtts\n",
      "Successfully installed gtts-2.2.3\n"
     ]
    }
   ],
   "source": [
    "!pip install gtts"
   ]
  },
  {
   "cell_type": "code",
   "execution_count": 3,
   "metadata": {},
   "outputs": [
    {
     "name": "stdout",
     "output_type": "stream",
     "text": [
      "Collecting playsound\n",
      "  Downloading playsound-1.2.2-py2.py3-none-any.whl (6.0 kB)\n",
      "Installing collected packages: playsound\n",
      "Successfully installed playsound-1.2.2\n"
     ]
    }
   ],
   "source": [
    "!pip install playsound"
   ]
  },
  {
   "cell_type": "code",
   "execution_count": 4,
   "metadata": {},
   "outputs": [],
   "source": [
    "from playsound import playsound\n",
    "# import required for text to speech conversion\n",
    "from gtts import gTTS"
   ]
  },
  {
   "cell_type": "code",
   "execution_count": 5,
   "metadata": {},
   "outputs": [],
   "source": [
    "mytext = \"Welcome to Natural Language programming\"\n",
    "language = \"en\"\n",
    "myobj = gTTS(text=mytext, lang=language, slow=False)\n",
    "myobj.save(\"myfile.mp3\")\n",
    "playsound(\"myfile.mp3\")"
   ]
  },
  {
   "cell_type": "code",
   "execution_count": 6,
   "metadata": {},
   "outputs": [
    {
     "name": "stdout",
     "output_type": "stream",
     "text": [
      "Collecting SpeechRecognition\n",
      "  Downloading SpeechRecognition-3.8.1-py2.py3-none-any.whl (32.8 MB)\n",
      "Collecting pydub\n",
      "  Downloading pydub-0.25.1-py2.py3-none-any.whl (32 kB)\n",
      "Installing collected packages: SpeechRecognition, pydub\n",
      "Successfully installed SpeechRecognition-3.8.1 pydub-0.25.1\n"
     ]
    }
   ],
   "source": [
    "!pip3 install SpeechRecognition pydub"
   ]
  },
  {
   "cell_type": "code",
   "execution_count": 8,
   "metadata": {},
   "outputs": [],
   "source": [
    "import speech_recognition as sr\n",
    "filename = \"test1.wav\"   #this file currently isnt there in the file path but once you add it and run it you will get the text results"
   ]
  },
  {
   "cell_type": "code",
   "execution_count": 9,
   "metadata": {},
   "outputs": [],
   "source": [
    "r = sr.Recognizer()"
   ]
  },
  {
   "cell_type": "code",
   "execution_count": null,
   "metadata": {},
   "outputs": [],
   "source": [
    "with sr.AudioFile(filename) as source:\n",
    "    audio_data = r.record(source)\n",
    "    text = r.recognize_google(audio_data)\n",
    "print(text)"
   ]
  }
 ],
 "metadata": {
  "kernelspec": {
   "display_name": "Python 3",
   "language": "python",
   "name": "python3"
  },
  "language_info": {
   "codemirror_mode": {
    "name": "ipython",
    "version": 3
   },
   "file_extension": ".py",
   "mimetype": "text/x-python",
   "name": "python",
   "nbconvert_exporter": "python",
   "pygments_lexer": "ipython3",
   "version": "3.8.8"
  }
 },
 "nbformat": 4,
 "nbformat_minor": 4
}
