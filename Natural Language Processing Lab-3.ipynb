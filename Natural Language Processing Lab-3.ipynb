{
 "cells": [
  {
   "cell_type": "markdown",
   "metadata": {},
   "source": [
    "Name: Jay Goyal\n",
    "Btech Extc: 4th Year\n",
    "C017\n",
    "Experiment No - 3\n"
   ]
  },
  {
   "cell_type": "code",
   "execution_count": 1,
   "metadata": {},
   "outputs": [],
   "source": [
    "from nltk.tokenize import sent_tokenize"
   ]
  },
  {
   "cell_type": "code",
   "execution_count": 2,
   "metadata": {},
   "outputs": [],
   "source": [
    "text = \"Hello friends1. Good Afternoon1, Today we will be learning Natura Language Processing . It is very interesting\""
   ]
  },
  {
   "cell_type": "code",
   "execution_count": 3,
   "metadata": {},
   "outputs": [
    {
     "name": "stdout",
     "output_type": "stream",
     "text": [
      "['Hello friends1.', 'Good Afternoon1, Today we will be learning Natura Language Processing .', 'It is very interesting']\n"
     ]
    }
   ],
   "source": [
    "tokenized_text = sent_tokenize(text)\n",
    "print(tokenized_text)"
   ]
  },
  {
   "cell_type": "code",
   "execution_count": 5,
   "metadata": {},
   "outputs": [],
   "source": [
    "from nltk.tokenize import word_tokenize"
   ]
  },
  {
   "cell_type": "code",
   "execution_count": 6,
   "metadata": {},
   "outputs": [
    {
     "name": "stdout",
     "output_type": "stream",
     "text": [
      "['Hello', 'friends1', '.', 'Good', 'Afternoon1', ',', 'Today', 'we', 'will', 'be', 'learning', 'Natura', 'Language', 'Processing', '.', 'It', 'is', 'very', 'interesting']\n"
     ]
    }
   ],
   "source": [
    "tokenized_word = word_tokenize(text)\n",
    "print(tokenized_word)"
   ]
  },
  {
   "cell_type": "code",
   "execution_count": 7,
   "metadata": {},
   "outputs": [],
   "source": [
    "#Stopwords\n",
    "from nltk.corpus import stopwords\n",
    "from nltk.tokenize import word_tokenize"
   ]
  },
  {
   "cell_type": "code",
   "execution_count": 8,
   "metadata": {},
   "outputs": [],
   "source": [
    "text = \"India is my Country\"\n",
    "text_tokens = word_tokenize(text)"
   ]
  },
  {
   "cell_type": "code",
   "execution_count": 9,
   "metadata": {},
   "outputs": [
    {
     "name": "stdout",
     "output_type": "stream",
     "text": [
      "['India', 'Country']\n"
     ]
    }
   ],
   "source": [
    "tokens_without_sw = [word for word in text_tokens if not word in stopwords.words()]\n",
    "print(tokens_without_sw)"
   ]
  },
  {
   "cell_type": "code",
   "execution_count": 10,
   "metadata": {},
   "outputs": [
    {
     "name": "stdout",
     "output_type": "stream",
     "text": [
      "[('The', 'DT'), ('name', 'NN'), ('of', 'IN'), ('our', 'PRP$'), ('Country', 'NN'), ('is', 'VBZ'), ('India', 'NNP')]\n"
     ]
    }
   ],
   "source": [
    "#Parts of speech tagging\n",
    "from nltk import word_tokenize, pos_tag\n",
    "s = \"The name of our Country is India\"\n",
    "print(pos_tag(word_tokenize(s)))"
   ]
  },
  {
   "cell_type": "code",
   "execution_count": 14,
   "metadata": {},
   "outputs": [],
   "source": [
    "import nltk\n",
    "from nltk.tokenize import PunktSentenceTokenizer"
   ]
  },
  {
   "cell_type": "code",
   "execution_count": 15,
   "metadata": {},
   "outputs": [
    {
     "name": "stdout",
     "output_type": "stream",
     "text": [
      "('Australia', 'NNP')\n",
      "('New', 'NNP')\n",
      "('Zealand', 'NNP')\n",
      "('South', 'NNP')\n",
      "('Afrca', 'NNP')\n",
      "('India', 'NNP')\n",
      "('Sri', 'NNP')\n",
      "('Lanka', 'NNP')\n",
      "('A', 'NNP')\n",
      "('England', 'NNP')\n",
      "('ODI', 'NNP')\n",
      "('Crickinfo', 'NNP')\n"
     ]
    }
   ],
   "source": [
    "document = \"\"\"\"Domestic cricket seasons in Australia, New Zealand , South Afrca, India, Sri Lanka may therefore span for two calender years, A cricket season in England is described as a single year. e.g. \"2009\". An international ODI series or tournament may be for a much shorter duration, and Crickinfo treats.\"\"\"\n",
    "sentences = nltk.sent_tokenize(document)\n",
    "\n",
    "data = []\n",
    "for sent in sentences:\n",
    "    data = data + nltk.pos_tag(nltk.word_tokenize(sent))\n",
    "    \n",
    "for word in data:\n",
    "    if 'NNP' in word[1]:\n",
    "        print(word)\n"
   ]
  },
  {
   "cell_type": "code",
   "execution_count": 22,
   "metadata": {},
   "outputs": [
    {
     "name": "stdout",
     "output_type": "stream",
     "text": [
      "NN: noun, common, singular or mass\n",
      "    common-carrier cabbage knuckle-duster Casino afghan shed thermostat\n",
      "    investment slide humour falloff slick wind hyena override subhumanity\n",
      "    machinist ...\n",
      "DT: determiner\n",
      "    all an another any both del each either every half la many much nary\n",
      "    neither no some such that the them these this those\n",
      "IN: preposition or conjunction, subordinating\n",
      "    astride among uppon whether out inside pro despite on by throughout\n",
      "    below within for towards near behind atop around if like until below\n",
      "    next into if beside ...\n",
      "VBZ: verb, present tense, 3rd person singular\n",
      "    bases reconstructs marks mixes displeases seals carps weaves snatches\n",
      "    slumps stretches authorizes smolders pictures emerges stockpiles\n",
      "    seduces fizzes uses bolsters slaps speaks pleads ...\n",
      "PRP$: pronoun, possessive\n",
      "    her his mine my our ours their thy your\n",
      "NNP: noun, proper, singular\n",
      "    Motown Venneboerger Czestochwa Ranzer Conchita Trumplane Christos\n",
      "    Oceanside Escobar Kreisler Sawyer Cougar Yvette Ervin ODI Darryl CTCA\n",
      "    Shannon A.K.C. Meltex Liverpool ...\n"
     ]
    },
    {
     "name": "stderr",
     "output_type": "stream",
     "text": [
      "[nltk_data] Downloading package tagsets to C:\\Users\\JAY\n",
      "[nltk_data]     GOYAL\\AppData\\Roaming\\nltk_data...\n",
      "[nltk_data]   Package tagsets is already up-to-date!\n"
     ]
    }
   ],
   "source": [
    "nltk.download('tagsets')\n",
    "nltk.help.upenn_tagset('NN')\n",
    "nltk.help.upenn_tagset('DT')\n",
    "nltk.help.upenn_tagset('IN')\n",
    "nltk.help.upenn_tagset('VBZ')\n",
    "nltk.help.upenn_tagset('PRP$')\n",
    "nltk.help.upenn_tagset('NNP')"
   ]
  },
  {
   "cell_type": "code",
   "execution_count": 23,
   "metadata": {},
   "outputs": [],
   "source": [
    "import nltk\n",
    "from nltk.tokenize import PunktSentenceTokenizer \n",
    "document1 = \"\"\"A voracious reader and best-selling author emailed me shortly after my post Anne Lamott: \n",
    "Some Instructions on Writing and Life. He proceeded to tell me the book was full of terrible advice, the self-help equivalent\n",
    "of “follow your passion.” In its place ,he offered up Steven Pressfield’s The War of Art, which not only describes the \n",
    "experience of writing but deals with the broader subject of overcoming obstacles to success\"\"\"\n",
    "\n",
    "sentences = nltk.sent_tokenize(document1)"
   ]
  },
  {
   "cell_type": "code",
   "execution_count": 24,
   "metadata": {},
   "outputs": [
    {
     "name": "stdout",
     "output_type": "stream",
     "text": [
      "\n",
      "NNP\n",
      "('Anne', 'NNP')\n",
      "('Lamott', 'NNP')\n",
      "('Writing', 'NNP')\n",
      "('Life', 'NNP')\n",
      "('“', 'NNP')\n",
      "('Steven', 'NNP')\n",
      "('Pressfield', 'NNP')\n",
      "('’', 'NNP')\n",
      "('War', 'NNP')\n",
      "('Art', 'NNP')\n",
      "\n",
      "JJ\n",
      "('voracious', 'JJ')\n",
      "('best-selling', 'JJ')\n",
      "('full', 'JJ')\n",
      "('terrible', 'JJ')\n",
      "('self-help', 'JJ')\n",
      "('broader', 'JJR')\n",
      "\n",
      "PRP\n",
      "('me', 'PRP')\n",
      "('my', 'PRP$')\n",
      "('He', 'PRP')\n",
      "('me', 'PRP')\n",
      "('your', 'PRP$')\n",
      "('its', 'PRP$')\n",
      "('he', 'PRP')\n",
      "\n",
      "VBD\n",
      "('emailed', 'VBD')\n",
      "('proceeded', 'VBD')\n",
      "('was', 'VBD')\n",
      "('offered', 'VBD')\n",
      "('s', 'VBD')\n",
      "\n",
      "RB\n",
      "('shortly', 'RB')\n",
      "('not', 'RB')\n",
      "('only', 'RB')\n",
      "\n",
      "IN\n",
      "('after', 'IN')\n",
      "('on', 'IN')\n",
      "('of', 'IN')\n",
      "('of', 'IN')\n",
      "('In', 'IN')\n",
      "('of', 'IN')\n",
      "('of', 'IN')\n",
      "('with', 'IN')\n",
      "('of', 'IN')\n"
     ]
    }
   ],
   "source": [
    "data = []\n",
    "for sent in sentences:\n",
    "    data = data + nltk.pos_tag(nltk.word_tokenize(sent))\n",
    "\n",
    "print(\"\\nNNP\")\n",
    "for word in data:\n",
    "    if 'NNP' in word[1]:\n",
    "        print(word)\n",
    "\n",
    "print(\"\\nJJ\")\n",
    "for word in data:\n",
    "    if 'JJ' in word[1]:\n",
    "        print(word)\n",
    "\n",
    "print(\"\\nPRP\")\n",
    "for word in data:\n",
    "    if 'PRP' in word[1]:\n",
    "        print(word)\n",
    "\n",
    "print(\"\\nVBD\")\n",
    "for word in data:\n",
    "    if 'VBD' in word[1]:\n",
    "        print(word)\n",
    "\n",
    "print(\"\\nRB\")\n",
    "for word in data:\n",
    "    if 'RB' in word[1]:\n",
    "        print(word)\n",
    "        \n",
    "print(\"\\nIN\")\n",
    "for word in data:\n",
    "    if 'IN' in word[1]:\n",
    "        print(word)"
   ]
  },
  {
   "cell_type": "code",
   "execution_count": 19,
   "metadata": {},
   "outputs": [
    {
     "name": "stdout",
     "output_type": "stream",
     "text": [
      "play\n",
      "play\n",
      "play\n"
     ]
    }
   ],
   "source": [
    "from nltk.stem import PorterStemmer\n",
    "e_words = [\"Played\", \"Playing\", \"Play\"]\n",
    "ps = PorterStemmer()\n",
    "for w in e_words:\n",
    "    rootWord=ps.stem(w)\n",
    "    print(rootWord)"
   ]
  },
  {
   "cell_type": "code",
   "execution_count": 21,
   "metadata": {},
   "outputs": [
    {
     "name": "stdout",
     "output_type": "stream",
     "text": [
      "play\n"
     ]
    }
   ],
   "source": [
    "from nltk.stem import WordNetLemmatizer\n",
    "lemmatizer = WordNetLemmatizer()\n",
    "print(lemmatizer.lemmatize(\"plays\"))"
   ]
  },
  {
   "cell_type": "code",
   "execution_count": 26,
   "metadata": {},
   "outputs": [
    {
     "name": "stdout",
     "output_type": "stream",
     "text": [
      "a strong positive emotion of regard and affection\n",
      "['his love for his work', 'children need a lot of love']\n"
     ]
    }
   ],
   "source": [
    "from nltk.corpus import wordnet\n",
    "syn = wordnet.synsets(\"love\")\n",
    "print(syn[0].definition())\n",
    "print(syn[0].examples())"
   ]
  },
  {
   "cell_type": "code",
   "execution_count": 27,
   "metadata": {},
   "outputs": [
    {
     "name": "stdout",
     "output_type": "stream",
     "text": [
      "***Synonyms of love' : ['love', 'love', 'passion', 'beloved', 'dear', 'dearest', 'honey', 'love', 'love', 'sexual_love', 'erotic_love', 'love', 'sexual_love', 'lovemaking', 'making_love', 'love', 'love_life', 'love', 'love', 'enjoy', 'love', 'sleep_together', 'roll_in_the_hay', 'love', 'make_out', 'make_love', 'sleep_with', 'get_laid', 'have_sex', 'know', 'do_it', 'be_intimate', 'have_intercourse', 'have_it_away', 'have_it_off', 'screw', 'fuck', 'jazz', 'eff', 'hump', 'lie_with', 'bed', 'have_a_go_at_it', 'bang', 'get_it_on', 'bonk']\n",
      "***Antonyms of love' : ['hate', 'hate']\n"
     ]
    }
   ],
   "source": [
    "synonyms = []\n",
    "antonyms = []\n",
    "for syn in wordnet.synsets('love'):\n",
    "    for lemma in syn.lemmas():\n",
    "        synonyms.append(lemma.name())\n",
    "        if lemma.antonyms():\n",
    "            antonyms.append(lemma.antonyms()[0].name())\n",
    "print(\"***Synonyms of love' :\",synonyms)\n",
    "print(\"***Antonyms of love' :\",antonyms)"
   ]
  },
  {
   "cell_type": "code",
   "execution_count": 29,
   "metadata": {},
   "outputs": [
    {
     "data": {
      "image/png": "[encoded data removed]",
      "text/plain": [
       "<Figure size 432x288 with 1 Axes>"
      ]
     },
     "metadata": {
      "needs_background": "light"
     },
     "output_type": "display_data"
    },
    {
     "data": {
      "text/plain": [
       "<AxesSubplot:xlabel='Samples', ylabel='Counts'>"
      ]
     },
     "execution_count": 29,
     "metadata": {},
     "output_type": "execute_result"
    }
   ],
   "source": [
    "import bs4 as bs\n",
    "import urllib.request\n",
    "import nltk\n",
    "URL = 'https://en.wikipedia.org/wiki/Dance'\n",
    "#Getting the data source\n",
    "source = urllib.request.urlopen(URL).read()\n",
    "#Parsing the data/ creating BeautifilSoup object\n",
    "soup = bs.BeautifulSoup(source,'lxml')\n",
    "#Fetching the data\n",
    "text = \"\"\n",
    "for paragraph in soup.find_all('p'):\n",
    "    text += paragraph.text\n",
    "\n",
    "text = text[:150]\n",
    "words = nltk.tokenize.word_tokenize(text)\n",
    "fd = nltk.FreqDist(words)\n",
    "fd.plot()"
   ]
  },
  {
   "cell_type": "code",
   "execution_count": null,
   "metadata": {},
   "outputs": [],
   "source": []
  }
 ],
 "metadata": {
  "kernelspec": {
   "display_name": "Python 3",
   "language": "python",
   "name": "python3"
  },
  "language_info": {
   "codemirror_mode": {
    "name": "ipython",
    "version": 3
   },
   "file_extension": ".py",
   "mimetype": "text/x-python",
   "name": "python",
   "nbconvert_exporter": "python",
   "pygments_lexer": "ipython3",
   "version": "3.8.8"
  }
 },
 "nbformat": 4,
 "nbformat_minor": 4
}
