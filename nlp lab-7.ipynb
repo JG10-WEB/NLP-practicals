{
 "cells": [
  {
   "cell_type": "markdown",
   "id": "71cd2760",
   "metadata": {},
   "source": [
    "Name: Jay Goyal\n",
    "Btech Extc: 4th Year\n",
    "C017\n",
    "Experiment No - 7"
   ]
  },
  {
   "cell_type": "code",
   "execution_count": 1,
   "id": "074f22b8",
   "metadata": {},
   "outputs": [],
   "source": [
    "import nltk"
   ]
  },
  {
   "cell_type": "code",
   "execution_count": 2,
   "id": "37e84be7",
   "metadata": {},
   "outputs": [],
   "source": [
    "def gender_features(word):\n",
    "    return {'last_letter': word[-1]}"
   ]
  },
  {
   "cell_type": "code",
   "execution_count": 3,
   "id": "c816bd3c",
   "metadata": {},
   "outputs": [
    {
     "data": {
      "text/plain": [
       "{'last_letter': 'k'}"
      ]
     },
     "execution_count": 3,
     "metadata": {},
     "output_type": "execute_result"
    }
   ],
   "source": [
    "gender_features('Shrek')"
   ]
  },
  {
   "cell_type": "code",
   "execution_count": 4,
   "id": "88261e2b",
   "metadata": {},
   "outputs": [],
   "source": [
    "from nltk.corpus import names"
   ]
  },
  {
   "cell_type": "code",
   "execution_count": 5,
   "id": "6fe3e225",
   "metadata": {},
   "outputs": [],
   "source": [
    "from nltk.corpus import names\n",
    "labeled_names = ([(name, 'male') for name in names.words('male.txt')] + [(name, 'female') for name in names.words('female.txt')])"
   ]
  },
  {
   "cell_type": "code",
   "execution_count": 6,
   "id": "9545b6ad",
   "metadata": {},
   "outputs": [],
   "source": [
    "import random"
   ]
  },
  {
   "cell_type": "code",
   "execution_count": 7,
   "id": "dd6fef07",
   "metadata": {},
   "outputs": [],
   "source": [
    "random.shuffle(labeled_names)"
   ]
  },
  {
   "cell_type": "code",
   "execution_count": 8,
   "id": "c1eec52b",
   "metadata": {},
   "outputs": [],
   "source": [
    "featuresets = [(gender_features(n), gender) for (n, gender) in labeled_names]"
   ]
  },
  {
   "cell_type": "code",
   "execution_count": 9,
   "id": "e913f83b",
   "metadata": {},
   "outputs": [],
   "source": [
    "train_set, test_set = featuresets[500:], featuresets[:500]"
   ]
  },
  {
   "cell_type": "code",
   "execution_count": 10,
   "id": "a06010b6",
   "metadata": {},
   "outputs": [],
   "source": [
    "classifier = nltk.NaiveBayesClassifier.train(train_set)"
   ]
  },
  {
   "cell_type": "code",
   "execution_count": 11,
   "id": "f77ad054",
   "metadata": {},
   "outputs": [
    {
     "data": {
      "text/plain": [
       "<nltk.classify.naivebayes.NaiveBayesClassifier at 0x28e4da79fa0>"
      ]
     },
     "execution_count": 11,
     "metadata": {},
     "output_type": "execute_result"
    }
   ],
   "source": [
    "classifier"
   ]
  },
  {
   "cell_type": "code",
   "execution_count": 12,
   "id": "9a2dc3ec",
   "metadata": {},
   "outputs": [
    {
     "data": {
      "text/plain": [
       "'male'"
      ]
     },
     "execution_count": 12,
     "metadata": {},
     "output_type": "execute_result"
    }
   ],
   "source": [
    "classifier.classify(gender_features('Neo'))"
   ]
  },
  {
   "cell_type": "code",
   "execution_count": 13,
   "id": "2f888766",
   "metadata": {},
   "outputs": [
    {
     "data": {
      "text/plain": [
       "'female'"
      ]
     },
     "execution_count": 13,
     "metadata": {},
     "output_type": "execute_result"
    }
   ],
   "source": [
    "classifier.classify(gender_features('Trinity'))"
   ]
  },
  {
   "cell_type": "code",
   "execution_count": 14,
   "id": "1fcdd425",
   "metadata": {},
   "outputs": [
    {
     "name": "stdout",
     "output_type": "stream",
     "text": [
      "0.72\n"
     ]
    }
   ],
   "source": [
    "print(nltk.classify.accuracy(classifier, test_set))"
   ]
  },
  {
   "cell_type": "code",
   "execution_count": 15,
   "id": "cdae8d16",
   "metadata": {},
   "outputs": [
    {
     "name": "stdout",
     "output_type": "stream",
     "text": [
      "Most Informative Features\n",
      "             last_letter = 'a'            female : male   =     36.5 : 1.0\n",
      "             last_letter = 'k'              male : female =     32.2 : 1.0\n",
      "             last_letter = 'f'              male : female =     16.2 : 1.0\n",
      "             last_letter = 'p'              male : female =     12.7 : 1.0\n",
      "             last_letter = 'v'              male : female =     10.7 : 1.0\n"
     ]
    }
   ],
   "source": [
    "classifier.show_most_informative_features(5)"
   ]
  },
  {
   "cell_type": "code",
   "execution_count": 16,
   "id": "d4d03625",
   "metadata": {},
   "outputs": [],
   "source": [
    "from nltk.classify import apply_features"
   ]
  },
  {
   "cell_type": "code",
   "execution_count": 17,
   "id": "c7b3d79a",
   "metadata": {},
   "outputs": [],
   "source": [
    "train_set = apply_features(gender_features, labeled_names[500:])"
   ]
  },
  {
   "cell_type": "code",
   "execution_count": 18,
   "id": "59eab95f",
   "metadata": {},
   "outputs": [],
   "source": [
    "test_set = apply_features(gender_features, labeled_names[:500])"
   ]
  },
  {
   "cell_type": "code",
   "execution_count": 19,
   "id": "61fb541a",
   "metadata": {},
   "outputs": [],
   "source": [
    "def gender_features2(name):\n",
    "    features = {}\n",
    "    features[\"first_letter\"] = name[0].lower()\n",
    "    features[\"last_letter\"] = name[-1].lower()\n",
    "    for letter in 'abcdefghijklmnopqrstuvwxyz':\n",
    "        features[\"count({})\".format(letter)] = name.lower().count(letter)\n",
    "        features[\"has({})\".format(letter)] = (letter in name.lower())\n",
    "    return features    "
   ]
  },
  {
   "cell_type": "code",
   "execution_count": 20,
   "id": "cc3ad265",
   "metadata": {},
   "outputs": [
    {
     "data": {
      "text/plain": [
       "{'first_letter': 'j',\n",
       " 'last_letter': 'n',\n",
       " 'count(a)': 0,\n",
       " 'has(a)': False,\n",
       " 'count(b)': 0,\n",
       " 'has(b)': False,\n",
       " 'count(c)': 0,\n",
       " 'has(c)': False,\n",
       " 'count(d)': 0,\n",
       " 'has(d)': False,\n",
       " 'count(e)': 0,\n",
       " 'has(e)': False,\n",
       " 'count(f)': 0,\n",
       " 'has(f)': False,\n",
       " 'count(g)': 0,\n",
       " 'has(g)': False,\n",
       " 'count(h)': 1,\n",
       " 'has(h)': True,\n",
       " 'count(i)': 0,\n",
       " 'has(i)': False,\n",
       " 'count(j)': 1,\n",
       " 'has(j)': True,\n",
       " 'count(k)': 0,\n",
       " 'has(k)': False,\n",
       " 'count(l)': 0,\n",
       " 'has(l)': False,\n",
       " 'count(m)': 0,\n",
       " 'has(m)': False,\n",
       " 'count(n)': 1,\n",
       " 'has(n)': True,\n",
       " 'count(o)': 1,\n",
       " 'has(o)': True,\n",
       " 'count(p)': 0,\n",
       " 'has(p)': False,\n",
       " 'count(q)': 0,\n",
       " 'has(q)': False,\n",
       " 'count(r)': 0,\n",
       " 'has(r)': False,\n",
       " 'count(s)': 0,\n",
       " 'has(s)': False,\n",
       " 'count(t)': 0,\n",
       " 'has(t)': False,\n",
       " 'count(u)': 0,\n",
       " 'has(u)': False,\n",
       " 'count(v)': 0,\n",
       " 'has(v)': False,\n",
       " 'count(w)': 0,\n",
       " 'has(w)': False,\n",
       " 'count(x)': 0,\n",
       " 'has(x)': False,\n",
       " 'count(y)': 0,\n",
       " 'has(y)': False,\n",
       " 'count(z)': 0,\n",
       " 'has(z)': False}"
      ]
     },
     "execution_count": 20,
     "metadata": {},
     "output_type": "execute_result"
    }
   ],
   "source": [
    "gender_features2('John')"
   ]
  },
  {
   "cell_type": "code",
   "execution_count": 21,
   "id": "f46853fe",
   "metadata": {},
   "outputs": [],
   "source": [
    "featuresets = [(gender_features2(n), gender) for (n, gender) in labeled_names]"
   ]
  },
  {
   "cell_type": "code",
   "execution_count": 22,
   "id": "154ff0ad",
   "metadata": {},
   "outputs": [],
   "source": [
    "train_set, test_set = featuresets[500:], featuresets[:500]"
   ]
  },
  {
   "cell_type": "code",
   "execution_count": 23,
   "id": "9af435f4",
   "metadata": {},
   "outputs": [],
   "source": [
    "classifier = nltk.NaiveBayesClassifier.train(train_set)"
   ]
  },
  {
   "cell_type": "code",
   "execution_count": 24,
   "id": "ae91acf3",
   "metadata": {},
   "outputs": [
    {
     "name": "stdout",
     "output_type": "stream",
     "text": [
      "0.758\n"
     ]
    }
   ],
   "source": [
    "print(nltk.classify.accuracy(classifier, test_set))"
   ]
  },
  {
   "cell_type": "code",
   "execution_count": 25,
   "id": "5d98a7a4",
   "metadata": {},
   "outputs": [],
   "source": [
    "train_names = labeled_names[1500:]"
   ]
  },
  {
   "cell_type": "code",
   "execution_count": 26,
   "id": "306c6a92",
   "metadata": {},
   "outputs": [],
   "source": [
    "devtest_names = labeled_names[500:1500]"
   ]
  },
  {
   "cell_type": "code",
   "execution_count": 27,
   "id": "8d476db7",
   "metadata": {},
   "outputs": [],
   "source": [
    "test_names = labeled_names[:500]"
   ]
  },
  {
   "cell_type": "code",
   "execution_count": 28,
   "id": "cdb7d078",
   "metadata": {},
   "outputs": [],
   "source": [
    "train_set = [(gender_features(n), gender) for (n, gender) in train_names]"
   ]
  },
  {
   "cell_type": "code",
   "execution_count": 29,
   "id": "0817b37b",
   "metadata": {},
   "outputs": [],
   "source": [
    "devtest_set = [(gender_features(n), gender) for (n, gender) in devtest_names]"
   ]
  },
  {
   "cell_type": "code",
   "execution_count": 30,
   "id": "5ef4162e",
   "metadata": {},
   "outputs": [],
   "source": [
    "test_set = [(gender_features(n), gender) for (n, gender) in test_names]"
   ]
  },
  {
   "cell_type": "code",
   "execution_count": 31,
   "id": "c42eb6c5",
   "metadata": {},
   "outputs": [],
   "source": [
    "classifier = nltk.NaiveBayesClassifier.train(train_set)"
   ]
  },
  {
   "cell_type": "code",
   "execution_count": 32,
   "id": "cafc44f0",
   "metadata": {},
   "outputs": [
    {
     "name": "stdout",
     "output_type": "stream",
     "text": [
      "0.764\n"
     ]
    }
   ],
   "source": [
    "print(nltk.classify.accuracy(classifier, devtest_set))"
   ]
  },
  {
   "cell_type": "code",
   "execution_count": 33,
   "id": "8c0d49cc",
   "metadata": {},
   "outputs": [],
   "source": [
    "errors = []\n",
    "for (name, tag) in devtest_names:\n",
    "    guess = classifier.classify(gender_features(name))\n",
    "    if guess != tag:\n",
    "        errors.append( (tag, guess, name) )"
   ]
  },
  {
   "cell_type": "code",
   "execution_count": 34,
   "id": "27a007e9",
   "metadata": {},
   "outputs": [
    {
     "name": "stdout",
     "output_type": "stream",
     "text": [
      "correct=female   guess=male     name=Adelind                       \n",
      "correct=female   guess=male     name=Adrian                        \n",
      "correct=female   guess=male     name=Aeriell                       \n",
      "correct=female   guess=male     name=Aigneis                       \n",
      "correct=female   guess=male     name=Aleen                         \n",
      "correct=female   guess=male     name=Allison                       \n",
      "correct=female   guess=male     name=Allys                         \n",
      "correct=female   guess=male     name=Amargo                        \n",
      "correct=female   guess=male     name=Anet                          \n",
      "correct=female   guess=male     name=Annabal                       \n",
      "correct=female   guess=male     name=Aryn                          \n",
      "correct=female   guess=male     name=Averyl                        \n",
      "correct=female   guess=male     name=Avril                         \n",
      "correct=female   guess=male     name=Beitris                       \n",
      "correct=female   guess=male     name=Bette-Ann                     \n",
      "correct=female   guess=male     name=Brier                         \n",
      "correct=female   guess=male     name=Carmen                        \n",
      "correct=female   guess=male     name=Carol-Jean                    \n",
      "correct=female   guess=male     name=Cathrin                       \n",
      "correct=female   guess=male     name=Chandal                       \n",
      "correct=female   guess=male     name=Cherlyn                       \n",
      "correct=female   guess=male     name=Christel                      \n",
      "correct=female   guess=male     name=Chrystal                      \n",
      "correct=female   guess=male     name=Chrystel                      \n",
      "correct=female   guess=male     name=Cindelyn                      \n",
      "correct=female   guess=male     name=Cinnamon                      \n",
      "correct=female   guess=male     name=Cleo                          \n",
      "correct=female   guess=male     name=Cloris                        \n",
      "correct=female   guess=male     name=Con                           \n",
      "correct=female   guess=male     name=Coreen                        \n",
      "correct=female   guess=male     name=Cris                          \n",
      "correct=female   guess=male     name=Cristal                       \n",
      "correct=female   guess=male     name=Cybil                         \n",
      "correct=female   guess=male     name=Darryl                        \n",
      "correct=female   guess=male     name=Daveen                        \n",
      "correct=female   guess=male     name=Devin                         \n",
      "correct=female   guess=male     name=Devon                         \n",
      "correct=female   guess=male     name=Donnajean                     \n",
      "correct=female   guess=male     name=Doro                          \n",
      "correct=female   guess=male     name=Dyan                          \n",
      "correct=female   guess=male     name=Edin                          \n",
      "correct=female   guess=male     name=Eileen                        \n",
      "correct=female   guess=male     name=Ester                         \n",
      "correct=female   guess=male     name=Ethelyn                       \n",
      "correct=female   guess=male     name=Eveleen                       \n",
      "correct=female   guess=male     name=Fern                          \n",
      "correct=female   guess=male     name=Fiann                         \n",
      "correct=female   guess=male     name=Flower                        \n",
      "correct=female   guess=male     name=Gennifer                      \n",
      "correct=female   guess=male     name=Germain                       \n",
      "correct=female   guess=male     name=Gert                          \n",
      "correct=female   guess=male     name=Gladis                        \n",
      "correct=female   guess=male     name=Greer                         \n",
      "correct=female   guess=male     name=Grier                         \n",
      "correct=female   guess=male     name=Gunvor                        \n",
      "correct=female   guess=male     name=Harriet                       \n",
      "correct=female   guess=male     name=Ines                          \n",
      "correct=female   guess=male     name=Ingeborg                      \n",
      "correct=female   guess=male     name=Iseabal                       \n",
      "correct=female   guess=male     name=Jacklin                       \n",
      "correct=female   guess=male     name=Jaclyn                        \n",
      "correct=female   guess=male     name=Jacquelin                     \n",
      "correct=female   guess=male     name=Jeniffer                      \n",
      "correct=female   guess=male     name=Jennifer                      \n",
      "correct=female   guess=male     name=Jess                          \n",
      "correct=female   guess=male     name=Jessamyn                      \n",
      "correct=female   guess=male     name=Jill                          \n",
      "correct=female   guess=male     name=Joann                         \n",
      "correct=female   guess=male     name=Joyan                         \n",
      "correct=female   guess=male     name=Juliann                       \n",
      "correct=female   guess=male     name=Kaitlin                       \n",
      "correct=female   guess=male     name=Karleen                       \n",
      "correct=female   guess=male     name=Kass                          \n",
      "correct=female   guess=male     name=Koral                         \n",
      "correct=female   guess=male     name=Koren                         \n",
      "correct=female   guess=male     name=Kristyn                       \n",
      "correct=female   guess=male     name=Kyrstin                       \n",
      "correct=female   guess=male     name=Leanor                        \n",
      "correct=female   guess=male     name=Leeann                        \n",
      "correct=female   guess=male     name=Leland                        \n",
      "correct=female   guess=male     name=Lin                           \n",
      "correct=female   guess=male     name=Linell                        \n",
      "correct=female   guess=male     name=Linet                         \n",
      "correct=female   guess=male     name=Lois                          \n",
      "correct=female   guess=male     name=Lorrin                        \n",
      "correct=female   guess=male     name=Lust                          \n",
      "correct=female   guess=male     name=Lyn                           \n",
      "correct=female   guess=male     name=Mairead                       \n",
      "correct=female   guess=male     name=Marijo                        \n",
      "correct=female   guess=male     name=Marion                        \n",
      "correct=female   guess=male     name=Maris                         \n",
      "correct=female   guess=male     name=Marylin                       \n",
      "correct=female   guess=male     name=Maud                          \n",
      "correct=female   guess=male     name=Mavis                         \n",
      "correct=female   guess=male     name=Mead                          \n",
      "correct=female   guess=male     name=Meaghan                       \n",
      "correct=female   guess=male     name=Megan                         \n",
      "correct=female   guess=male     name=Merilyn                       \n",
      "correct=female   guess=male     name=Moreen                        \n",
      "correct=female   guess=male     name=Nil                           \n",
      "correct=female   guess=male     name=Noreen                        \n",
      "correct=female   guess=male     name=Pris                          \n",
      "correct=female   guess=male     name=Raf                           \n",
      "correct=female   guess=male     name=Rianon                        \n",
      "correct=female   guess=male     name=Rosalynd                      \n",
      "correct=female   guess=male     name=Ruthann                       \n",
      "correct=female   guess=male     name=Sallyann                      \n",
      "correct=female   guess=male     name=Sean                          \n",
      "correct=female   guess=male     name=Sharyl                        \n",
      "correct=female   guess=male     name=Sheila-Kathryn                \n",
      "correct=female   guess=male     name=Sheril                        \n",
      "correct=female   guess=male     name=Sherill                       \n",
      "correct=female   guess=male     name=Shir                          \n",
      "correct=female   guess=male     name=Sigrid                        \n",
      "correct=female   guess=male     name=Stoddard                      \n",
      "correct=female   guess=male     name=Terri-Jo                      \n",
      "correct=female   guess=male     name=Violet                        \n",
      "correct=female   guess=male     name=Viviyan                       \n",
      "correct=female   guess=male     name=Willow                        \n",
      "correct=male     guess=female   name=Abbie                         \n",
      "correct=male     guess=female   name=Aditya                        \n",
      "correct=male     guess=female   name=Ajai                          \n",
      "correct=male     guess=female   name=Alfie                         \n",
      "correct=male     guess=female   name=Ali                           \n",
      "correct=male     guess=female   name=Alley                         \n",
      "correct=male     guess=female   name=Anatoly                       \n",
      "correct=male     guess=female   name=Angie                         \n",
      "correct=male     guess=female   name=Antone                        \n",
      "correct=male     guess=female   name=Augustine                     \n",
      "correct=male     guess=female   name=Barnabe                       \n",
      "correct=male     guess=female   name=Bealle                        \n",
      "correct=male     guess=female   name=Benji                         \n",
      "correct=male     guess=female   name=Berkeley                      \n",
      "correct=male     guess=female   name=Bertie                        \n",
      "correct=male     guess=female   name=Bucky                         \n",
      "correct=male     guess=female   name=Burke                         \n",
      "correct=male     guess=female   name=Carmine                       \n",
      "correct=male     guess=female   name=Charley                       \n",
      "correct=male     guess=female   name=Chase                         \n",
      "correct=male     guess=female   name=Claire                        \n",
      "correct=male     guess=female   name=Clyde                         \n",
      "correct=male     guess=female   name=Cole                          \n",
      "correct=male     guess=female   name=Constantine                   \n",
      "correct=male     guess=female   name=Corby                         \n",
      "correct=male     guess=female   name=Danny                         \n",
      "correct=male     guess=female   name=Darby                         \n",
      "correct=male     guess=female   name=Dennie                        \n",
      "correct=male     guess=female   name=Donny                         \n",
      "correct=male     guess=female   name=Dory                          \n",
      "correct=male     guess=female   name=Durante                       \n",
      "correct=male     guess=female   name=Dwayne                        \n",
      "correct=male     guess=female   name=Ely                           \n",
      "correct=male     guess=female   name=Enoch                         \n",
      "correct=male     guess=female   name=Fonzie                        \n",
      "correct=male     guess=female   name=Geoffrey                      \n",
      "correct=male     guess=female   name=Geoffry                       \n",
      "correct=male     guess=female   name=George                        \n",
      "correct=male     guess=female   name=Georgia                       \n",
      "correct=male     guess=female   name=Georgy                        \n",
      "correct=male     guess=female   name=Gregory                       \n",
      "correct=male     guess=female   name=Griffith                      \n",
      "correct=male     guess=female   name=Guillaume                     \n",
      "correct=male     guess=female   name=Gustave                       \n",
      "correct=male     guess=female   name=Hadleigh                      \n",
      "correct=male     guess=female   name=Hale                          \n",
      "correct=male     guess=female   name=Hewe                          \n",
      "correct=male     guess=female   name=Hewie                         \n",
      "correct=male     guess=female   name=Hillary                       \n",
      "correct=male     guess=female   name=Hillery                       \n",
      "correct=male     guess=female   name=Hodge                         \n",
      "correct=male     guess=female   name=Izzy                          \n",
      "correct=male     guess=female   name=Jean-Christophe               \n",
      "correct=male     guess=female   name=Jean-Pierre                   \n",
      "correct=male     guess=female   name=Jedediah                      \n",
      "correct=male     guess=female   name=Jeffery                       \n",
      "correct=male     guess=female   name=Jeffie                        \n",
      "correct=male     guess=female   name=Jerri                         \n",
      "correct=male     guess=female   name=Jimmie                        \n",
      "correct=male     guess=female   name=Jonny                         \n",
      "correct=male     guess=female   name=Keith                         \n",
      "correct=male     guess=female   name=Kory                          \n",
      "correct=male     guess=female   name=Krishna                       \n",
      "correct=male     guess=female   name=Lanny                         \n",
      "correct=male     guess=female   name=Lonnie                        \n",
      "correct=male     guess=female   name=Manish                        \n",
      "correct=male     guess=female   name=Manny                         \n",
      "correct=male     guess=female   name=Marsh                         \n",
      "correct=male     guess=female   name=Meredith                      \n",
      "correct=male     guess=female   name=Morry                         \n",
      "correct=male     guess=female   name=Mustafa                       \n",
      "correct=male     guess=female   name=Neville                       \n",
      "correct=male     guess=female   name=Nichole                       \n",
      "correct=male     guess=female   name=Nickie                        \n",
      "correct=male     guess=female   name=Niki                          \n",
      "correct=male     guess=female   name=Obie                          \n",
      "correct=male     guess=female   name=Ozzie                         \n",
      "correct=male     guess=female   name=Pasquale                      \n",
      "correct=male     guess=female   name=Patty                         \n",
      "correct=male     guess=female   name=Percy                         \n",
      "correct=male     guess=female   name=Phillipe                      \n",
      "correct=male     guess=female   name=Ray                           \n",
      "correct=male     guess=female   name=Reggie                        \n",
      "correct=male     guess=female   name=Rex                           \n",
      "correct=male     guess=female   name=Reza                          \n",
      "correct=male     guess=female   name=Richy                         \n",
      "correct=male     guess=female   name=Ritch                         \n",
      "correct=male     guess=female   name=Roarke                        \n",
      "correct=male     guess=female   name=Rourke                        \n",
      "correct=male     guess=female   name=Sarge                         \n",
      "correct=male     guess=female   name=Sawyere                       \n",
      "correct=male     guess=female   name=Scotty                        \n",
      "correct=male     guess=female   name=See                           \n",
      "correct=male     guess=female   name=Shea                          \n",
      "correct=male     guess=female   name=Shelby                        \n",
      "correct=male     guess=female   name=Shorty                        \n",
      "correct=male     guess=female   name=Siffre                        \n",
      "correct=male     guess=female   name=Skelly                        \n",
      "correct=male     guess=female   name=Sollie                        \n",
      "correct=male     guess=female   name=Sparky                        \n",
      "correct=male     guess=female   name=Stanleigh                     \n",
      "correct=male     guess=female   name=Stanly                        \n",
      "correct=male     guess=female   name=Sterne                        \n",
      "correct=male     guess=female   name=Tallie                        \n",
      "correct=male     guess=female   name=Terri                         \n",
      "correct=male     guess=female   name=Thatch                        \n",
      "correct=male     guess=female   name=Tremaine                      \n",
      "correct=male     guess=female   name=Uri                           \n",
      "correct=male     guess=female   name=Uriah                         \n",
      "correct=male     guess=female   name=Wallie                        \n",
      "correct=male     guess=female   name=Walsh                         \n",
      "correct=male     guess=female   name=Wayne                         \n",
      "correct=male     guess=female   name=Welby                         \n",
      "correct=male     guess=female   name=Willi                         \n",
      "correct=male     guess=female   name=Zachary                       \n",
      "correct=male     guess=female   name=Zedekiah                      \n",
      "correct=male     guess=female   name=Zollie                        \n"
     ]
    }
   ],
   "source": [
    "for (tag, guess, name) in sorted(errors):\n",
    "    print('correct={:<8} guess={:<8s} name={:<30}'.format(tag, guess, name))"
   ]
  },
  {
   "cell_type": "code",
   "execution_count": 35,
   "id": "bdd83ce3",
   "metadata": {},
   "outputs": [],
   "source": [
    "def gender_features(word):\n",
    "    return {'suffix1': word[-1:], 'suffix2': word[-2:]}"
   ]
  },
  {
   "cell_type": "code",
   "execution_count": 36,
   "id": "7a2cc876",
   "metadata": {},
   "outputs": [],
   "source": [
    "train_set = [(gender_features(n), gender) for (n, gender) in train_names]"
   ]
  },
  {
   "cell_type": "code",
   "execution_count": 37,
   "id": "af9e18a9",
   "metadata": {},
   "outputs": [],
   "source": [
    "devtest_set = [(gender_features(n), gender) for (n, gender) in devtest_names]"
   ]
  },
  {
   "cell_type": "code",
   "execution_count": 38,
   "id": "e507553e",
   "metadata": {},
   "outputs": [],
   "source": [
    "classifier = nltk.NaiveBayesClassifier.train(train_set)"
   ]
  },
  {
   "cell_type": "code",
   "execution_count": 39,
   "id": "c50de860",
   "metadata": {},
   "outputs": [
    {
     "name": "stdout",
     "output_type": "stream",
     "text": [
      "0.781\n"
     ]
    }
   ],
   "source": [
    "print(nltk.classify.accuracy(classifier, devtest_set))"
   ]
  },
  {
   "cell_type": "code",
   "execution_count": null,
   "id": "6018266d",
   "metadata": {},
   "outputs": [],
   "source": []
  }
 ],
 "metadata": {
  "kernelspec": {
   "display_name": "Python 3",
   "language": "python",
   "name": "python3"
  },
  "language_info": {
   "codemirror_mode": {
    "name": "ipython",
    "version": 3
   },
   "file_extension": ".py",
   "mimetype": "text/x-python",
   "name": "python",
   "nbconvert_exporter": "python",
   "pygments_lexer": "ipython3",
   "version": "3.8.8"
  }
 },
 "nbformat": 4,
 "nbformat_minor": 5
}
